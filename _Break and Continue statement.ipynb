{
 "cells": [
  {
   "cell_type": "code",
   "execution_count": 1,
   "id": "80e784fc-77fd-42a3-beac-c1718c1dfa70",
   "metadata": {},
   "outputs": [],
   "source": [
    "# 1. Write a program to print numbers from 1 to 10, but stop if the number is 5."
   ]
  },
  {
   "cell_type": "code",
   "execution_count": 2,
   "id": "7c414036-bb4f-44c5-aac8-49b5b9a2caa8",
   "metadata": {},
   "outputs": [
    {
     "name": "stdout",
     "output_type": "stream",
     "text": [
      "1\n",
      "2\n",
      "3\n",
      "4\n"
     ]
    }
   ],
   "source": [
    "i = 1\n",
    "while i <= 10:\n",
    "  if i == 5:\n",
    "    break\n",
    "  print(i)\n",
    "  i += 1"
   ]
  },
  {
   "cell_type": "code",
   "execution_count": 3,
   "id": "f7ace9d7-4b4b-44d0-998c-3c33b6fed77b",
   "metadata": {},
   "outputs": [],
   "source": [
    "#2. Write a program to iterate through a list and stop when encountering a specific element."
   ]
  },
  {
   "cell_type": "code",
   "execution_count": 5,
   "id": "0962a8e3-c403-484f-927a-b6ee7f9de886",
   "metadata": {},
   "outputs": [
    {
     "name": "stdout",
     "output_type": "stream",
     "text": [
      "apple\n",
      "banana\n",
      "cherry\n"
     ]
    }
   ],
   "source": [
    "l = [\"apple\", \"banana\", \"cherry\", \"kiwi\", \"mango\"]\n",
    "stop = \"kiwi\"\n",
    "\n",
    "for item in l:\n",
    "  if item == stop:\n",
    "    break\n",
    "  print(item)"
   ]
  },
  {
   "cell_type": "code",
   "execution_count": 6,
   "id": "4620e203-bc6d-4dc0-a354-3a294291499f",
   "metadata": {},
   "outputs": [],
   "source": [
    "# 3. Write a program to skip printing even numbers from 1 to 10."
   ]
  },
  {
   "cell_type": "code",
   "execution_count": 7,
   "id": "c0afd14d-e68b-4526-9df3-d594ff132e4f",
   "metadata": {},
   "outputs": [
    {
     "name": "stdout",
     "output_type": "stream",
     "text": [
      "1\n"
     ]
    }
   ],
   "source": [
    "for num in range(1, 11):\n",
    "  if num % 2 == 0:\n",
    "    break\n",
    "  print(num)"
   ]
  },
  {
   "cell_type": "code",
   "execution_count": 9,
   "id": "505f3474-8cc5-403a-9370-b7e7d35ca8c8",
   "metadata": {},
   "outputs": [],
   "source": [
    "# 4. Write a program to print numbers from 0 to 9 using range()."
   ]
  },
  {
   "cell_type": "code",
   "execution_count": 15,
   "id": "54833868-31e9-434e-9d28-6bd89e00e7a9",
   "metadata": {},
   "outputs": [
    {
     "name": "stdout",
     "output_type": "stream",
     "text": [
      "0\n",
      "1\n",
      "2\n",
      "3\n",
      "4\n",
      "5\n",
      "6\n",
      "7\n",
      "8\n",
      "9\n"
     ]
    }
   ],
   "source": [
    "for num in range (10):\n",
    "  print(num)"
   ]
  },
  {
   "cell_type": "code",
   "execution_count": 16,
   "id": "15dccc34-99e2-4074-931b-61d11b7dfa8a",
   "metadata": {},
   "outputs": [],
   "source": [
    "# 5, Write a program to print multiplication tables from 1 to 5, but stop after the first table\n",
    "# is printed for each number."
   ]
  },
  {
   "cell_type": "code",
   "execution_count": 17,
   "id": "ed941a1a-4488-49e5-b824-f97e35e6b8c9",
   "metadata": {},
   "outputs": [
    {
     "name": "stdout",
     "output_type": "stream",
     "text": [
      "1 x 1 = 1\t1 x 2 = 2\t1 x 3 = 3\t1 x 4 = 4\t1 x 5 = 5\t1 x 6 = 6\t1 x 7 = 7\t1 x 8 = 8\t1 x 9 = 9\t1 x 10 = 10\t\n",
      "2 x 1 = 2\t2 x 2 = 4\t2 x 3 = 6\t2 x 4 = 8\t2 x 5 = 10\t2 x 6 = 12\t2 x 7 = 14\t2 x 8 = 16\t2 x 9 = 18\t2 x 10 = 20\t\n",
      "3 x 1 = 3\t3 x 2 = 6\t3 x 3 = 9\t3 x 4 = 12\t3 x 5 = 15\t3 x 6 = 18\t3 x 7 = 21\t3 x 8 = 24\t3 x 9 = 27\t3 x 10 = 30\t\n",
      "4 x 1 = 4\t4 x 2 = 8\t4 x 3 = 12\t4 x 4 = 16\t4 x 5 = 20\t4 x 6 = 24\t4 x 7 = 28\t4 x 8 = 32\t4 x 9 = 36\t4 x 10 = 40\t\n",
      "5 x 1 = 5\t5 x 2 = 10\t5 x 3 = 15\t5 x 4 = 20\t5 x 5 = 25\t5 x 6 = 30\t5 x 7 = 35\t5 x 8 = 40\t5 x 9 = 45\t5 x 10 = 50\t\n"
     ]
    }
   ],
   "source": [
    "for num in range(1, 6):\n",
    "  for i in range(1, 11):\n",
    "    product = num * i\n",
    "    print(f\"{num} x {i} = {product}\", end=\"\\t\")\n",
    "  print()"
   ]
  },
  {
   "cell_type": "code",
   "execution_count": 18,
   "id": "735d5531-31d3-4d7c-8d4f-d0a59e7b68c7",
   "metadata": {},
   "outputs": [],
   "source": [
    "#6. Write a program to skip printing even numbers using a while loop"
   ]
  },
  {
   "cell_type": "code",
   "execution_count": 19,
   "id": "70170b33-4c71-4dfc-926a-cd1158b08df2",
   "metadata": {},
   "outputs": [
    {
     "name": "stdout",
     "output_type": "stream",
     "text": [
      "1\n",
      "3\n",
      "5\n",
      "7\n",
      "9\n"
     ]
    }
   ],
   "source": [
    "num = 1\n",
    "while num <= 10:\n",
    "  if num % 2 != 0:\n",
    "    print(num)\n",
    "  num += 2"
   ]
  }
 ],
 "metadata": {
  "kernelspec": {
   "display_name": "Python 3 (ipykernel)",
   "language": "python",
   "name": "python3"
  },
  "language_info": {
   "codemirror_mode": {
    "name": "ipython",
    "version": 3
   },
   "file_extension": ".py",
   "mimetype": "text/x-python",
   "name": "python",
   "nbconvert_exporter": "python",
   "pygments_lexer": "ipython3",
   "version": "3.10.8"
  }
 },
 "nbformat": 4,
 "nbformat_minor": 5
}
